{
  "cells": [
    {
      "cell_type": "code",
      "execution_count": 1,
      "metadata": {
        "id": "1m-rU9IVKAm0"
      },
      "outputs": [],
      "source": [
        "import torch\n",
        "import os\n",
        "import random\n",
        "import numpy as np"
      ]
    },
    {
      "cell_type": "code",
      "execution_count": 2,
      "metadata": {
        "id": "VvotXq-iKAm1"
      },
      "outputs": [],
      "source": [
        "# Зафиксируем seed для воспроизводимости\n",
        "\n",
        "def seed_everything(seed):\n",
        "    random.seed(seed) # фиксируем генератор случайных чисел\n",
        "    os.environ['PYTHONHASHSEED'] = str(seed) # фиксируем заполнения хешей\n",
        "    np.random.seed(seed) # фиксируем генератор случайных чисел numpy\n",
        "    torch.manual_seed(seed) # фиксируем генератор случайных чисел pytorch\n",
        "    torch.cuda.manual_seed(seed) # фиксируем генератор случайных чисел для GPU\n",
        "    torch.backends.cudnn.deterministic = True # выбираем только детерминированные алгоритмы (для сверток)\n",
        "    torch.backends.cudnn.benchmark = False # фиксируем алгоритм вычисления сверток"
      ]
    },
    {
      "cell_type": "code",
      "execution_count": 3,
      "metadata": {
        "id": "S8OUQ83JKAm2"
      },
      "outputs": [],
      "source": [
        "seed_everything(42)"
      ]
    },
    {
      "cell_type": "code",
      "execution_count": 4,
      "metadata": {
        "colab": {
          "base_uri": "https://localhost:8080/"
        },
        "id": "Hls71UUoKAm2",
        "outputId": "3607aa75-d7c8-4822-f013-a61382ad2e91"
      },
      "outputs": [
        {
          "output_type": "execute_result",
          "data": {
            "text/plain": [
              "(178, 13)"
            ]
          },
          "metadata": {},
          "execution_count": 4
        }
      ],
      "source": [
        "import sklearn.datasets\n",
        "wine = sklearn.datasets.load_wine()\n",
        "wine.data.shape"
      ]
    },
    {
      "cell_type": "code",
      "execution_count": 5,
      "metadata": {
        "id": "wuktjqUjKAm3"
      },
      "outputs": [],
      "source": [
        "from sklearn.model_selection import train_test_split\n",
        "\n",
        "X_train, X_test, y_train, y_test = train_test_split(\n",
        "    wine.data[:, :2], \n",
        "    wine.target, \n",
        "    test_size=0.3, \n",
        "    shuffle=True)\n",
        "\n",
        "X_train = torch.FloatTensor(X_train)\n",
        "X_test = torch.FloatTensor(X_test)\n",
        "y_train = torch.LongTensor(y_train)\n",
        "y_test = torch.LongTensor(y_test)"
      ]
    },
    {
      "cell_type": "code",
      "execution_count": 6,
      "metadata": {
        "id": "lkizyB4EKAm4"
      },
      "outputs": [],
      "source": [
        "class WineNet(torch.nn.Module):\n",
        "    def __init__(self, n_hidden_neurons):\n",
        "        super(WineNet, self).__init__()\n",
        "        \n",
        "        self.fc1 = torch.nn.Linear(2, n_hidden_neurons)\n",
        "        self.activ1 = torch.nn.Sigmoid()\n",
        "        self.fc2 = torch.nn.Linear(n_hidden_neurons, n_hidden_neurons)\n",
        "        self.activ2 = torch.nn.Sigmoid()\n",
        "        self.fc3 = torch.nn.Linear(n_hidden_neurons, 3)\n",
        "        self.sm = torch.nn.Softmax(dim=1)\n",
        "        \n",
        "    def forward(self, x):\n",
        "        x = self.fc1(x)\n",
        "        x = self.activ1(x)\n",
        "        x = self.fc2(x)\n",
        "        x = self.activ2(x)\n",
        "        x = self.fc3(x)\n",
        "        return x\n",
        "\n",
        "    def inference(self, x):\n",
        "        x = self.forward(x)\n",
        "        x = self.sm(x)\n",
        "        return x\n",
        "    \n",
        "wine_net = WineNet(5)"
      ]
    },
    {
      "cell_type": "code",
      "execution_count": 7,
      "metadata": {
        "id": "m_DjjZsIKAm4"
      },
      "outputs": [],
      "source": [
        "loss = torch.nn.CrossEntropyLoss()\n",
        "\n",
        "optimizer = torch.optim.Adam(wine_net.parameters(), \n",
        "                             lr=1.0e-3)"
      ]
    },
    {
      "cell_type": "code",
      "source": [
        "device = torch.device('cuda:0' \n",
        "                      if torch.cuda.is_available() \n",
        "                      else 'cpu')"
      ],
      "metadata": {
        "id": "7RALNJH_Z0SS"
      },
      "execution_count": 8,
      "outputs": []
    },
    {
      "cell_type": "code",
      "execution_count": 9,
      "metadata": {
        "colab": {
          "base_uri": "https://localhost:8080/"
        },
        "id": "qOiH983wKAm4",
        "outputId": "6011a354-7f5c-4905-8db3-432095a77614"
      },
      "outputs": [
        {
          "output_type": "execute_result",
          "data": {
            "text/plain": [
              "array([1, 2, 4, 3, 0])"
            ]
          },
          "metadata": {},
          "execution_count": 9
        }
      ],
      "source": [
        "np.random.permutation(5)"
      ]
    },
    {
      "cell_type": "code",
      "execution_count": 12,
      "metadata": {
        "scrolled": false,
        "colab": {
          "base_uri": "https://localhost:8080/"
        },
        "id": "d2ha_4LfKAm5",
        "outputId": "5206c0bd-e76b-43dc-f9d5-25de365e13cc"
      },
      "outputs": [
        {
          "output_type": "stream",
          "name": "stdout",
          "text": [
            "tensor(0.7778)\n",
            "tensor(0.7963)\n",
            "tensor(0.7963)\n",
            "tensor(0.7778)\n",
            "tensor(0.8148)\n",
            "tensor(0.8148)\n",
            "tensor(0.7593)\n",
            "tensor(0.7778)\n",
            "tensor(0.7593)\n",
            "tensor(0.7963)\n",
            "tensor(0.7963)\n",
            "tensor(0.7963)\n",
            "tensor(0.7963)\n",
            "tensor(0.7778)\n",
            "tensor(0.7963)\n",
            "tensor(0.7963)\n",
            "tensor(0.7778)\n",
            "tensor(0.7963)\n",
            "tensor(0.7778)\n",
            "tensor(0.7963)\n",
            "tensor(0.7963)\n",
            "tensor(0.7963)\n",
            "tensor(0.7963)\n",
            "tensor(0.7963)\n",
            "tensor(0.7963)\n",
            "tensor(0.7963)\n",
            "tensor(0.7963)\n",
            "tensor(0.7963)\n",
            "tensor(0.7963)\n",
            "tensor(0.7963)\n",
            "tensor(0.7778)\n",
            "tensor(0.7963)\n",
            "tensor(0.7963)\n",
            "tensor(0.7963)\n",
            "tensor(0.7963)\n",
            "tensor(0.7963)\n",
            "tensor(0.7778)\n",
            "tensor(0.7963)\n",
            "tensor(0.7963)\n",
            "tensor(0.7963)\n",
            "tensor(0.7963)\n",
            "tensor(0.7963)\n",
            "tensor(0.7963)\n",
            "tensor(0.8148)\n",
            "tensor(0.7963)\n",
            "tensor(0.7963)\n",
            "tensor(0.7963)\n",
            "tensor(0.7963)\n",
            "tensor(0.7963)\n",
            "tensor(0.7963)\n",
            "tensor(0.7963)\n",
            "tensor(0.7963)\n",
            "tensor(0.7963)\n",
            "tensor(0.7963)\n",
            "tensor(0.7963)\n",
            "tensor(0.7963)\n",
            "tensor(0.7963)\n",
            "tensor(0.7963)\n",
            "tensor(0.7963)\n",
            "tensor(0.7963)\n",
            "tensor(0.7963)\n",
            "tensor(0.7963)\n",
            "tensor(0.7963)\n",
            "tensor(0.7963)\n",
            "tensor(0.7963)\n",
            "tensor(0.7778)\n",
            "tensor(0.7963)\n",
            "tensor(0.7963)\n",
            "tensor(0.7963)\n",
            "tensor(0.7963)\n",
            "tensor(0.7963)\n",
            "tensor(0.7963)\n",
            "tensor(0.7963)\n",
            "tensor(0.7963)\n",
            "tensor(0.7963)\n",
            "tensor(0.7963)\n",
            "tensor(0.8148)\n",
            "tensor(0.8148)\n",
            "tensor(0.7963)\n",
            "tensor(0.7963)\n",
            "tensor(0.7963)\n",
            "tensor(0.7963)\n",
            "tensor(0.7963)\n",
            "tensor(0.7963)\n",
            "tensor(0.7778)\n",
            "tensor(0.7963)\n",
            "tensor(0.7963)\n",
            "tensor(0.7963)\n",
            "tensor(0.7963)\n",
            "tensor(0.7963)\n",
            "tensor(0.7963)\n",
            "tensor(0.7963)\n",
            "tensor(0.7963)\n",
            "tensor(0.7963)\n",
            "tensor(0.7963)\n",
            "tensor(0.7963)\n",
            "tensor(0.7963)\n",
            "tensor(0.7963)\n",
            "tensor(0.7963)\n",
            "tensor(0.7963)\n"
          ]
        }
      ],
      "source": [
        "batch_size = 10\n",
        "\n",
        "for epoch in range(1000):\n",
        "    order = np.random.permutation(len(X_train))\n",
        "    for start_index in range(0, len(X_train), batch_size):\n",
        "        optimizer.zero_grad()\n",
        "        \n",
        "        batch_indexes = order[start_index:start_index+batch_size]\n",
        "        \n",
        "        x_batch = X_train[batch_indexes]\n",
        "        y_batch = y_train[batch_indexes]\n",
        "        x_batch, y_batch = x_batch.to(device), y_batch.to(device)\n",
        "        \n",
        "        preds = wine_net.forward(x_batch) \n",
        "        \n",
        "        loss_value = loss(preds, y_batch)\n",
        "        loss_value.backward()\n",
        "        \n",
        "        optimizer.step()\n",
        "        \n",
        "    if epoch % 100 == 0:\n",
        "        test_preds = wine_net.forward(X_test)\n",
        "        test_preds = test_preds.argmax(dim=1)\n",
        "        print((test_preds == y_test).float().mean())"
      ]
    },
    {
      "cell_type": "code",
      "execution_count": 13,
      "metadata": {
        "colab": {
          "base_uri": "https://localhost:8080/",
          "height": 497
        },
        "id": "KmiAfUw0KAm5",
        "outputId": "8f5b7860-e5d4-4ccf-9821-d2beffdd99f7"
      },
      "outputs": [
        {
          "output_type": "display_data",
          "data": {
            "text/plain": [
              "<Figure size 720x576 with 1 Axes>"
            ],
            "image/png": "[encoded data removed]"
          },
          "metadata": {
            "needs_background": "light"
          }
        }
      ],
      "source": [
        "import matplotlib.pyplot as plt\n",
        "%matplotlib inline\n",
        "\n",
        "plt.rcParams['figure.figsize'] = (10, 8)\n",
        "\n",
        "n_classes = 3\n",
        "plot_colors = ['g', 'orange', 'black']\n",
        "plot_step = 0.02\n",
        "\n",
        "x_min, x_max = X_train[:, 0].min() - 1, X_train[:, 0].max() + 1\n",
        "y_min, y_max = X_train[:, 1].min() - 1, X_train[:, 1].max() + 1\n",
        "\n",
        "xx, yy =  torch.meshgrid(torch.arange(x_min, x_max, plot_step),\n",
        "                         torch.arange(y_min, y_max, plot_step))\n",
        "\n",
        "preds = wine_net.inference(\n",
        "    torch.cat([xx.reshape(-1, 1), yy.reshape(-1, 1)], dim=1))\n",
        "\n",
        "preds_class = preds.data.numpy().argmax(axis=1)\n",
        "preds_class = preds_class.reshape(xx.shape)\n",
        "plt.contourf(xx, yy, preds_class, cmap='Accent')\n",
        "\n",
        "for i, color in zip(range(n_classes), plot_colors):\n",
        "    indexes = np.where(y_train == i)\n",
        "    plt.scatter(X_train[indexes, 0], \n",
        "                X_train[indexes, 1], \n",
        "                c=color, \n",
        "                label=wine.target_names[i],\n",
        "                cmap='Accent')\n",
        "    plt.xlabel(wine.feature_names[0])\n",
        "    plt.ylabel(wine.feature_names[1])\n",
        "    plt.legend()"
      ]
    },
    {
      "cell_type": "code",
      "execution_count": null,
      "metadata": {
        "id": "G1dhGSmsKAm6"
      },
      "outputs": [],
      "source": []
    }
  ],
  "metadata": {
    "anaconda-cloud": {},
    "kernelspec": {
      "display_name": "Python 3",
      "language": "python",
      "name": "python3"
    },
    "language_info": {
      "codemirror_mode": {
        "name": "ipython",
        "version": 3
      },
      "file_extension": ".py",
      "mimetype": "text/x-python",
      "name": "python",
      "nbconvert_exporter": "python",
      "pygments_lexer": "ipython3",
      "version": "3.8.3"
    },
    "colab": {
      "provenance": [],
      "collapsed_sections": []
    }
  },
  "nbformat": 4,
  "nbformat_minor": 0
}