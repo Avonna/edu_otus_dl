{
 "cells": [
  {
   "cell_type": "markdown",
   "metadata": {
    "id": "Zjs1h1L6Jwh7"
   },
   "source": [
    "# Математическая модель нейрона<br />Булевы операции с нейроном"
   ]
  },
  {
   "cell_type": "markdown",
   "metadata": {
    "id": "GV_ME36hJtBb"
   },
   "source": [
    "## Импорт библиотек"
   ]
  },
  {
   "cell_type": "code",
   "execution_count": 1,
   "metadata": {
    "id": "vkmDae3w0w0a"
   },
   "outputs": [],
   "source": [
    "import numpy as np\n",
    "from typing import List"
   ]
  },
  {
   "cell_type": "markdown",
   "metadata": {
    "id": "rcKLsfesKIPs"
   },
   "source": [
    "## Модель Маккаллока-Питтса"
   ]
  },
  {
   "cell_type": "code",
   "execution_count": 2,
   "metadata": {
    "id": "jdcQm5yV07Qp"
   },
   "outputs": [],
   "source": [
    "class Neuron:\n",
    "    def __init__(self, weights: List[float], bias: float):\n",
    "        self.weights = np.array(weights)\n",
    "        self.bias = bias\n",
    "\n",
    "    def activation_function(self, inputs: List[float]) -> int:\n",
    "        z = np.dot(self.weights, np.array(inputs)) + self.bias\n",
    "        return 0 if z <= 0 else 1\n"
   ]
  },
  {
   "cell_type": "markdown",
   "metadata": {
    "id": "_UM18NL-J3UB"
   },
   "source": [
    "## Операция отрицания"
   ]
  },
  {
   "cell_type": "code",
   "execution_count": 3,
   "metadata": {
    "id": "HXKz92PxO6NA"
   },
   "outputs": [],
   "source": [
    "negation_neuron = Neuron([-1], 1)\n",
    "\n",
    "assert negation_neuron.activation_function([0]) == 1\n",
    "assert negation_neuron.activation_function([1]) == 0"
   ]
  },
  {
   "cell_type": "markdown",
   "metadata": {
    "id": "q1w278rpO_k7"
   },
   "source": [
    "## Операция логического \"И\""
   ]
  },
  {
   "cell_type": "code",
   "execution_count": 4,
   "metadata": {
    "id": "eNKud281O_Tu"
   },
   "outputs": [],
   "source": [
    "logical_and_neuron = Neuron([1, 1], -1)\n",
    "assert logical_and_neuron.activation_function([1, 1]) == 1\n",
    "assert logical_and_neuron.activation_function([1, 0]) == 0\n",
    "assert logical_and_neuron.activation_function([0, 1]) == 0\n",
    "assert logical_and_neuron.activation_function([0, 0]) == 0"
   ]
  },
  {
   "cell_type": "markdown",
   "metadata": {
    "id": "UqJPx3s-br0D"
   },
   "source": [
    "## Операция логического \"ИЛИ\""
   ]
  },
  {
   "cell_type": "code",
   "execution_count": 5,
   "metadata": {
    "id": "fQc7P_9kbsi6"
   },
   "outputs": [],
   "source": [
    "logical_or_neuron = Neuron([1, 1], 0)\n",
    "assert logical_or_neuron.activation_function([1, 1]) == 1\n",
    "assert logical_or_neuron.activation_function([1, 0]) == 1\n",
    "assert logical_or_neuron.activation_function([0, 1]) == 1\n",
    "assert logical_or_neuron.activation_function([0, 0]) == 0"
   ]
  },
  {
   "cell_type": "markdown",
   "metadata": {
    "id": "twe6QS8-b4Wz"
   },
   "source": [
    "## Операция XOR (с помощью 3 нейронов)"
   ]
  },
  {
   "cell_type": "code",
   "execution_count": 6,
   "metadata": {
    "id": "A2x8iRa9q7tg"
   },
   "outputs": [],
   "source": [
    "xor_inputs = [(1, 1, 0), (1, 0, 1), (0, 1, 1), (0, 0, 0)]"
   ]
  },
  {
   "cell_type": "code",
   "execution_count": 7,
   "metadata": {
    "id": "g27zeOGwnMzz"
   },
   "outputs": [],
   "source": [
    "xor_neuron_1 = Neuron([-1, -1], 1.5)\n",
    "xor_neuron_2 = Neuron([1, 1], -0.5)\n",
    "xor_neuron_3 = Neuron([1, 1], -1.5)"
   ]
  },
  {
   "cell_type": "code",
   "execution_count": 8,
   "metadata": {
    "id": "s11lnW7Wb6VB"
   },
   "outputs": [],
   "source": [
    "\n",
    "for x, y, xor in xor_inputs:\n",
    "    assert (xor_neuron_3.activation_function(\n",
    "          [\n",
    "              xor_neuron_1.activation_function([x, y]),\n",
    "              xor_neuron_2.activation_function([x, y])\n",
    "          ])\n",
    "    ) == xor"
   ]
  },
  {
   "cell_type": "markdown",
   "metadata": {
    "id": "f49oYA4ro2rV"
   },
   "source": [
    "## Операция XOR (с помощью 2 нейронов)"
   ]
  },
  {
   "cell_type": "code",
   "execution_count": 9,
   "metadata": {
    "id": "EMyBBYo4qsRW"
   },
   "outputs": [],
   "source": [
    "xor_neuron_2_1 = Neuron([1, 1], -1.5)\n",
    "xor_neuron_2_2 = Neuron([1, -2, 1], -0.5)"
   ]
  },
  {
   "cell_type": "code",
   "execution_count": 10,
   "metadata": {
    "id": "ThI6Co3BrMh4"
   },
   "outputs": [],
   "source": [
    "for x, y, xor in xor_inputs:\n",
    "    assert (xor_neuron_2_2.activation_function(\n",
    "      [\n",
    "          x,\n",
    "          xor_neuron_2_1.activation_function([x, y]),\n",
    "          y\n",
    "      ])\n",
    "    ) == xor"
   ]
  }
 ],
 "metadata": {
  "colab": {
   "provenance": []
  },
  "kernelspec": {
   "display_name": "Python 3 (ipykernel)",
   "language": "python",
   "name": "python3"
  },
  "language_info": {
   "codemirror_mode": {
    "name": "ipython",
    "version": 3
   },
   "file_extension": ".py",
   "mimetype": "text/x-python",
   "name": "python",
   "nbconvert_exporter": "python",
   "pygments_lexer": "ipython3",
   "version": "3.10.6"
  }
 },
 "nbformat": 4,
 "nbformat_minor": 4
}
